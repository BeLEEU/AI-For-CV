{
 "cells": [
  {
   "cell_type": "markdown",
   "metadata": {},
   "source": [
    "D:/DEEPL/GOCV/Lesson/WEEK01/lenna.jpg"
   ]
  },
  {
   "cell_type": "code",
   "execution_count": 1,
   "metadata": {},
   "outputs": [],
   "source": [
    "#插入库函数\n",
    "import cv2\n",
    "import numpy as np\n",
    "import random\n",
    "from matplotlib import pyplot as plt"
   ]
  },
  {
   "cell_type": "code",
   "execution_count": 2,
   "metadata": {},
   "outputs": [
    {
     "name": "stdout",
     "output_type": "stream",
     "text": [
      "[[242 242 242 ... 242 242 242]\n",
      " [242 242 242 ... 242 242 242]\n",
      " [242 242 242 ... 242 242 242]\n",
      " ...\n",
      " [242 242 242 ... 242 242 242]\n",
      " [242 242 242 ... 242 242 242]\n",
      " [242 242 242 ... 242 242 242]]\n",
      "uint8\n",
      "(528, 532)\n"
     ]
    }
   ],
   "source": [
    "#读取灰色图片\n",
    "img_gray = cv2.imread('D:/DEEPL/GOCV/Lesson/WEEK01/lenna.jpg',0)\n",
    "cv2.imshow(\"gray\",img_gray)\n",
    "key = cv2.waitKey()\n",
    "if key == 27:\n",
    "    cv2.destroyAllWindows()\n",
    "print(img_gray)\n",
    "print(img_gray.dtype)\n",
    "print(img_gray.shape)"
   ]
  },
  {
   "cell_type": "code",
   "execution_count": 3,
   "metadata": {},
   "outputs": [
    {
     "name": "stdout",
     "output_type": "stream",
     "text": [
      "[[[255 242 236]\n",
      "  [255 242 236]\n",
      "  [254 242 236]\n",
      "  ...\n",
      "  [251 242 238]\n",
      "  [251 242 238]\n",
      "  [251 242 238]]\n",
      "\n",
      " [[255 241 239]\n",
      "  [255 241 239]\n",
      "  [254 241 239]\n",
      "  ...\n",
      "  [251 242 238]\n",
      "  [251 242 238]\n",
      "  [251 242 238]]\n",
      "\n",
      " [[255 239 243]\n",
      "  [254 240 242]\n",
      "  [254 240 242]\n",
      "  ...\n",
      "  [251 242 238]\n",
      "  [251 242 238]\n",
      "  [251 242 238]]\n",
      "\n",
      " ...\n",
      "\n",
      " [[253 244 234]\n",
      "  [253 244 235]\n",
      "  [251 244 235]\n",
      "  ...\n",
      "  [251 242 238]\n",
      "  [251 242 238]\n",
      "  [251 242 238]]\n",
      "\n",
      " [[254 244 234]\n",
      "  [253 244 234]\n",
      "  [253 244 234]\n",
      "  ...\n",
      "  [251 242 238]\n",
      "  [251 242 238]\n",
      "  [251 242 238]]\n",
      "\n",
      " [[254 245 232]\n",
      "  [253 244 234]\n",
      "  [253 244 234]\n",
      "  ...\n",
      "  [251 242 238]\n",
      "  [251 242 238]\n",
      "  [251 242 238]]]\n",
      "uint8\n",
      "(528, 532, 3)\n"
     ]
    }
   ],
   "source": [
    "#读取彩色图片\n",
    "img = cv2.imread('D:/DEEPL/GOCV/Lesson/WEEK01/lenna.jpg')\n",
    "cv2.imshow('img',img)\n",
    "key = cv2.waitKey()\n",
    "if key == 27:\n",
    "    cv2.destroyAllWindows()\n",
    "print(img)\n",
    "print(img.dtype)\n",
    "print(img.shape)"
   ]
  },
  {
   "cell_type": "code",
   "execution_count": 4,
   "metadata": {},
   "outputs": [],
   "source": [
    "#读取部分图片\n",
    "img_crop = img[100:400,200:400,0]\n",
    "cv2.imshow(\"crop\",img_crop)\n",
    "key = cv2.waitKey()\n",
    "if key == 27:\n",
    "    cv2.destroyAllWindows()\n",
    "    "
   ]
  },
  {
   "cell_type": "code",
   "execution_count": 5,
   "metadata": {},
   "outputs": [],
   "source": [
    "#读取三通道图片\n",
    "B, G, R = cv2.split(img)\n",
    "cv2.imshow('B',B)\n",
    "cv2.imshow('G',G)\n",
    "cv2.imshow('R',R)\n",
    "key = cv2.waitKey()\n",
    "if key == 27:\n",
    "    cv2.destroyAllWindows()"
   ]
  },
  {
   "cell_type": "code",
   "execution_count": 6,
   "metadata": {},
   "outputs": [],
   "source": [
    "#合并三通道图片\n",
    "img_merge = cv2.merge([R,G,B])\n",
    "cv2.imshow(\"merge\",img_merge)\n",
    "key == cv2.waitKey()\n",
    "if key == 27:\n",
    "    cv2.destroyAllWindows()"
   ]
  },
  {
   "cell_type": "code",
   "execution_count": 7,
   "metadata": {},
   "outputs": [],
   "source": [
    "#改变颜色\n",
    "#从B G R三个通道逐一入手\n",
    "def random_light_color(img):\n",
    "    B, G, R = cv2.split(img)\n",
    "    \n",
    "    b_rand = random.randint(-50, 50)\n",
    "    if b_rand == 0:\n",
    "        pass\n",
    "    elif b_rand > 0:\n",
    "        lim = 255 - b_rand\n",
    "        B[B > lim] = 255\n",
    "        B[B <= lim] = (b_rand + B[B <= lim]).astype(img.dtype)\n",
    "    elif b_rand < 0:\n",
    "        lim = 0 - b_rand\n",
    "        B[B < lim] = 0\n",
    "        B[B >= lim] = (b_rand + B[B >= lim]).astype(img.dtype)\n",
    "    \n",
    "    g_rand = random.randint(-50, 50)\n",
    "    if g_rand == 0:\n",
    "        pass\n",
    "    elif g_rand > 0:\n",
    "        lim = 255 - g_rand\n",
    "        G[G > lim] = 255\n",
    "        G[G <= lim] = (g_rand + G[G <= lim]).astype(img.dtype)\n",
    "    elif g_rand < 0:\n",
    "        lim = 0 - g_rand\n",
    "        G[G < lim] = 0\n",
    "        G[G >= lim] = (g_rand + G[G >= lim]).astype(img.dtype)\n",
    "    \n",
    "    r_rand = random.randint(-50, 50)\n",
    "    if r_rand == 0:\n",
    "        pass\n",
    "    elif r_rand > 0:\n",
    "        lim = 255 - r_rand\n",
    "        G[G > lim] = 255\n",
    "        G[G <= lim] = (r_rand + G[G <= lim]).astype(img.dtype)\n",
    "    elif r_rand < 0:\n",
    "        lim = 0 - r_rand\n",
    "        G[G < lim] = 0\n",
    "        G[G >= lim] = (r_rand + G[G >= lim]).astype(img.dtype)\n",
    "    img_merge = cv2.merge((B, G, R))\n",
    "    return img_merge"
   ]
  },
  {
   "cell_type": "code",
   "execution_count": 8,
   "metadata": {},
   "outputs": [],
   "source": [
    "img_dark = cv2.imread('D:/DEEPL/GOCV/Lesson/WEEK01/dark.jpg')\n",
    "img_random_dark =  random_light_color(img_dark)\n",
    "cv2.imshow(\"random\",img_random_dark)\n",
    "key = cv2.waitKey()\n",
    "if key == 27:\n",
    "    cv2.destroyAllWindows()"
   ]
  },
  {
   "cell_type": "code",
   "execution_count": 9,
   "metadata": {},
   "outputs": [],
   "source": [
    "##gamma correction\n",
    "img_dark = cv2.imread('D:/DEEPL/GOCV/Lesson/WEEK01/dark.jpg')\n",
    "cv2.imshow('img_dark',img_dark)\n",
    "key = cv2.waitKey()\n",
    "if key == 27:\n",
    "    cv2.destroyAllWindows()\n",
    "def adjust_gamma(image, gamma = 1.0):\n",
    "    invGamma = 1.0/gamma\n",
    "    table = []\n",
    "    for i in range(256):\n",
    "        table.append(((i / 255.0) ** invGamma) * 255)\n",
    "    table = np.array(table).astype(\"uint8\")\n",
    "    return cv2.LUT(img_dark, table)\n",
    "img_brighter = adjust_gamma(img_dark, 2.222)\n",
    "cv2.imshow('img_dark', img_dark)\n",
    "cv2.imshow('img_brighter', img_brighter)\n",
    "key = cv2.waitKey()\n",
    "if key == 27:\n",
    "    cv2.destroyAllWindows()\n"
   ]
  },
  {
   "cell_type": "code",
   "execution_count": 10,
   "metadata": {},
   "outputs": [],
   "source": [
    "#gamma correction\n",
    "#创建一个大小为256的table\n",
    "#对每一个相对位置上的数值进行gamma矫正\n",
    "def _adjust_gamma(img, gamma = 1.0):\n",
    "    invGamma = 1.0 / gamma\n",
    "    table = []\n",
    "    for i in range(256):\n",
    "        table.append(((i / 255) ** invGamma) * 255)\n",
    "    table = np.array(table).astype(\"uint8\")\n",
    "    return cv2.LUT(img, table)\n",
    "img_brighter = _adjust_gamma(img_dark, 3.0)\n",
    "cv2.imshow(\"dark\", img_dark)\n",
    "cv2.imshow(\"brighter\", img_brighter)\n",
    "key = cv2.waitKey()\n",
    "if key == 27:\n",
    "    cv2.destroyAllWindows()\n"
   ]
  },
  {
   "cell_type": "code",
   "execution_count": 11,
   "metadata": {},
   "outputs": [
    {
     "name": "stdout",
     "output_type": "stream",
     "text": [
      "[[31 31 31 ... 91 86 86]\n",
      " [31 31 31 ... 91 86 86]\n",
      " [31 31 31 ... 92 86 86]\n",
      " ...\n",
      " [29 29 28 ... 23 23 23]\n",
      " [29 29 29 ... 23 23 23]\n",
      " [29 29 29 ... 23 23 23]]\n",
      "[[ 37  37  37 ... 209 198 198]\n",
      " [ 37  37  37 ... 209 198 198]\n",
      " [ 37  37  37 ... 212 198 198]\n",
      " ...\n",
      " [ 31  31  31 ...  29  29  29]\n",
      " [ 31  31  31 ...  29  29  29]\n",
      " [ 31  31  31 ...  29  29  29]]\n"
     ]
    },
    {
     "data": {
      "image/png": "[encoded data removed]",
      "text/plain": [
       "<Figure size 432x288 with 1 Axes>"
      ]
     },
     "metadata": {
      "needs_background": "light"
     },
     "output_type": "display_data"
    }
   ],
   "source": [
    "# histogram\n",
    "img_small_brighter = cv2.resize(img_brighter, (int(img_brighter.shape[0]*0.5), int(img_brighter.shape[1]*0.5)))\n",
    "plt.hist(img_brighter.flatten(), 256, [0, 256], color = 'r')\n",
    "img_yuv = cv2.cvtColor(img_small_brighter, cv2.COLOR_BGR2YUV)\n",
    "print(img_yuv[:,:,0])\n",
    "# equalize the histogram of the Y channel\n",
    "img_yuv[:,:,0] = cv2.equalizeHist(img_yuv[:,:,0])   # only for 1 channel\n",
    "# convert the YUV image back to RGB format\n",
    "print(img_yuv[:,:,0])\n",
    "img_output = cv2.cvtColor(img_yuv, cv2.COLOR_YUV2BGR)   # y: luminance(明亮度), u&v: 色度饱和度\n",
    "cv2.imshow('Color input image', img_small_brighter)\n",
    "cv2.imshow('Histogram equalized', img_output)\n",
    "key = cv2.waitKey(0)\n",
    "if key == 27:\n",
    "\n",
    "    cv2.destroyAllWindows()\n"
   ]
  },
  {
   "cell_type": "code",
   "execution_count": 12,
   "metadata": {},
   "outputs": [
    {
     "data": {
      "image/png": "[encoded data removed]",
      "text/plain": [
       "<Figure size 432x288 with 1 Axes>"
      ]
     },
     "metadata": {
      "needs_background": "light"
     },
     "output_type": "display_data"
    }
   ],
   "source": [
    "#首先截取一部分img_brighter图像\n",
    "#用直方图表示这部分图像\n",
    "#将截取部分转为yuv 即 亮度，色度， 浓度 空间\n",
    "#将这部分亮度的像素直方图均衡化\n",
    "#输出这两部分\n",
    "small_brighter_img = cv2.resize(img_brighter, (int(img_brighter.shape[0] * 0.5), int(img_brighter.shape[1] * 0.5)))\n",
    "plt.hist(img_brighter.flatten(), 256, [0, 256], color = 'r')\n",
    "yuv = cv2.cvtColor(small_brighter_img, cv2.COLOR_BGR2YUV)\n",
    "yuv[:,:,0] = cv2.equalizeHist(yuv[:,:,0])\n",
    "yuv = cv2.cvtColor(yuv, cv2.COLOR_YUV2BGR)\n",
    "cv2.imshow(\"small_brighter_img\", small_brighter_img)\n",
    "cv2.imshow(\"yuv_equalized\", yuv)\n",
    "key = cv2.waitKey(0)\n",
    "if key == 27:\n",
    "\n",
    "    cv2.destroyAllWindows()"
   ]
  },
  {
   "cell_type": "code",
   "execution_count": 13,
   "metadata": {},
   "outputs": [
    {
     "name": "stdout",
     "output_type": "stream",
     "text": [
      "[[  0.8660254    0.5        -96.36275741]\n",
      " [ -0.5          0.8660254  168.3692934 ]]\n",
      "[[  0.8660254    0.5        -96.36275741]\n",
      " [ -0.5          0.8660254  168.3692934 ]]\n"
     ]
    }
   ],
   "source": [
    "# rotation\n",
    "M = cv2.getRotationMatrix2D((img.shape[1] / 2, img.shape[0] / 2), 30, 1) # center, angle, scale\n",
    "print(M)\n",
    "img_rotate = cv2.warpAffine(img, M, (img.shape[1], img.shape[0]))\n",
    "cv2.imshow('rotated lenna', img_rotate)\n",
    "key = cv2.waitKey(0)\n",
    "if key == 27:\n",
    "    cv2.destroyAllWindows()\n",
    "\n",
    "print(M)\n"
   ]
  },
  {
   "cell_type": "code",
   "execution_count": 14,
   "metadata": {},
   "outputs": [
    {
     "name": "stdout",
     "output_type": "stream",
     "text": [
      "[[  0.8660254    0.5        -96.36275741]\n",
      " [ -0.5          0.8660254  168.3692934 ]]\n"
     ]
    }
   ],
   "source": [
    "M1 = cv2.getRotationMatrix2D((img.shape[1] / 2, img.shape[0] / 2), 30, 1)\n",
    "img_rotate1 = cv2.warpAffine(img, M1, (img.shape[1], img.shape[0]))\n",
    "cv2.imshow(\"rotated\", img_rotate1)\n",
    "key = cv2.waitKey()\n",
    "if key == 27:\n",
    "    cv2.destroyAllWindows()\n",
    "\n",
    "print(M1)"
   ]
  },
  {
   "cell_type": "code",
   "execution_count": 15,
   "metadata": {},
   "outputs": [
    {
     "name": "stdout",
     "output_type": "stream",
     "text": [
      "[[ 1.  0.  0.]\n",
      " [-0.  1.  0.]]\n"
     ]
    }
   ],
   "source": [
    "# scale+rotation+translation = similarity transform\n",
    "M = cv2.getRotationMatrix2D((img.shape[1] / 3, img.shape[0] / 3), 0, 1) # center, angle, scale\n",
    "img_rotate = cv2.warpAffine(img, M, (img.shape[1], img.shape[0]))\n",
    "cv2.imshow('rotated lenna', img_rotate)\n",
    "key = cv2.waitKey(0)\n",
    "if key == 27:\n",
    "    cv2.destroyAllWindows()\n",
    "\n",
    "print(M)\n"
   ]
  },
  {
   "cell_type": "code",
   "execution_count": 16,
   "metadata": {},
   "outputs": [],
   "source": [
    "##############################\n",
    "# Affine Transform\n",
    "rows, cols, ch = img.shape\n",
    "pts1 = np.float32([[0, 0], [cols - 1, 0], [0, rows - 1]])\n",
    "pts2 = np.float32([[cols * 0.1, rows * 0.1], [cols * 0.9, rows * 0.4], [cols * 0.1, rows * 0.9]])\n",
    " \n",
    "M = cv2.getAffineTransform(pts1, pts2)\n",
    "dst = cv2.warpAffine(img, M, (cols, rows))\n",
    "\n",
    "cv2.imshow('affine lenna', dst)\n",
    "key = cv2.waitKey(0)\n",
    "if key == 27:\n",
    "    cv2.destroyAllWindows()\n"
   ]
  },
  {
   "cell_type": "code",
   "execution_count": 17,
   "metadata": {},
   "outputs": [],
   "source": [
    "rows, cols, ch = img.shape\n",
    "pts1 = np.float32([[0, 0], [cols - 1, 0], [0, rows -1]])\n",
    "pts2 = np.float32([[cols * 0.1, rows * 0.1], [cols * 0.9, rows * 0.4], [cols * 0.2, rows * 0.9]])\n",
    "M = cv2.getAffineTransform(pts1, pts2)\n",
    "dst = cv2.warpAffine(img, M, (cols, rows))\n",
    "cv2.imshow('affine lenna', dst)\n",
    "key = cv2.waitKey(0)\n",
    "if key == 27:\n",
    "    cv2.destroyAllWindows()"
   ]
  },
  {
   "cell_type": "code",
   "execution_count": 18,
   "metadata": {},
   "outputs": [],
   "source": [
    "############################\n",
    "# perspective transform\n",
    "def random_warp(img, row, col):\n",
    "    height, width, channels = img.shape\n",
    "\n",
    "    # warp:\n",
    "    random_margin = 60\n",
    "    x1 = random.randint(-random_margin, random_margin)\n",
    "    y1 = random.randint(-random_margin, random_margin)\n",
    "    x2 = random.randint(width - random_margin - 1, width - 1)\n",
    "    y2 = random.randint(-random_margin, random_margin)\n",
    "    x3 = random.randint(width - random_margin - 1, width - 1)\n",
    "    y3 = random.randint(height - random_margin - 1, height - 1)\n",
    "    x4 = random.randint(-random_margin, random_margin)\n",
    "    y4 = random.randint(height - random_margin - 1, height - 1)\n",
    "\n",
    "    dx1 = random.randint(-random_margin, random_margin)\n",
    "    dy1 = random.randint(-random_margin, random_margin)\n",
    "    dx2 = random.randint(width - random_margin - 1, width - 1)\n",
    "    dy2 = random.randint(-random_margin, random_margin)\n",
    "    dx3 = random.randint(width - random_margin - 1, width - 1)\n",
    "    dy3 = random.randint(height - random_margin - 1, height - 1)\n",
    "    dx4 = random.randint(-random_margin, random_margin)\n",
    "    dy4 = random.randint(height - random_margin - 1, height - 1)\n",
    "\n",
    "    pts1 = np.float32([[0, 500], [0, 10], [500, 10], [500, 500]])\n",
    "    pts2 = np.float32([[0, 500], [200, 150], [400, 150], [500, 500]])\n",
    "    M_warp = cv2.getPerspectiveTransform(pts1, pts2)\n",
    "    img_warp = cv2.warpPerspective(img, M_warp, (width, height))\n",
    "    return M_warp, img_warp\n",
    "M_warp, img_warp = random_warp(img, img.shape[0], img.shape[1])\n",
    "cv2.imshow('lenna_warp', img_warp)\n",
    "key = cv2.waitKey(0)\n",
    "if key == 27:\n",
    "    cv2.destroyAllWindows()\n"
   ]
  },
  {
   "cell_type": "code",
   "execution_count": 19,
   "metadata": {},
   "outputs": [],
   "source": [
    "pts1 = np.float32([[0, 500], [0, 10], [500, 10], [500, 500]])\n",
    "pts2 = np.float32([[0, 500], [150, 150], [400, 150], [500, 500]]) \n",
    "M_warp = cv2.getPerspectiveTransform(pts1, pts2)\n",
    "img_warp = cv2.warpPerspective(img, M_warp, (img.shape[0], img.shape[1]))\n",
    "cv2.imshow('lenna_warp', img_warp)\n",
    "key = cv2.waitKey(0)\n",
    "if key == 27:\n",
    "    cv2.destroyAllWindows()"
   ]
  },
  {
   "cell_type": "code",
   "execution_count": 20,
   "metadata": {},
   "outputs": [],
   "source": [
    "#mix work\n",
    "import cv2\n",
    "import numpy as np\n",
    "from matplotlib import pyplot as plt\n",
    "import random"
   ]
  },
  {
   "cell_type": "code",
   "execution_count": null,
   "metadata": {},
   "outputs": [],
   "source": [
    "img = cv2.imread('D:/DEEPL/GOCV/Lesson/WEEK01/dark2.jpg')\n",
    "cv2.imshow(\"dark\", img)\n",
    "key = cv2.waitKey()\n",
    "if key == 27:\n",
    "    cv2.destroyAllWindows()\n",
    "\n",
    "img_crop = img[300:500, 150:300,]\n",
    "cv2.imshow(\"img_crop\", img_crop)\n",
    "key = cv2.waitKey()\n",
    "if key == 27:\n",
    "    cv2.destroyAllWindows()"
   ]
  },
  {
   "cell_type": "code",
   "execution_count": 22,
   "metadata": {},
   "outputs": [],
   "source": [
    "yuv_crop = cv2.cvtColor(img_crop, cv2.COLOR_BGR2YUV)\n",
    "cv2.imshow(\"yuv_crop\", yuv_crop)\n",
    "key = cv2.waitKey()\n",
    "if key == 27:\n",
    "    cv2.destroyAllWindows()"
   ]
  },
  {
   "cell_type": "code",
   "execution_count": 23,
   "metadata": {},
   "outputs": [
    {
     "data": {
      "image/png": "[encoded data removed]",
      "text/plain": [
       "<Figure size 432x288 with 1 Axes>"
      ]
     },
     "metadata": {
      "needs_background": "light"
     },
     "output_type": "display_data"
    }
   ],
   "source": [
    "plt.hist(yuv_crop.flatten(), 256, (0,256), color = 'r')\n",
    "yuv_crop[:,:,0] = cv2.equalizeHist(yuv_crop[:, :,0])\n",
    "plt.hist(yuv_crop.flatten(), 256, (0,256), color = 'g')\n",
    "cv2.imshow(\"yuv_crop\", yuv_crop)\n",
    "key = cv2.waitKey()\n",
    "if key == 27:\n",
    "    cv2.destroyAllWindows()"
   ]
  },
  {
   "cell_type": "code",
   "execution_count": 24,
   "metadata": {},
   "outputs": [],
   "source": [
    "def gamma_correction(img, gamma = 1.0):\n",
    "    invGamma = 1.0 / gamma\n",
    "    Table = []\n",
    "    for i in range(256):\n",
    "        Table.append(((i / 255.0) ** invGamma) * 255)\n",
    "    Table = np.array(Table).astype(img.dtype)\n",
    "    return cv2.LUT(img, Table)"
   ]
  },
  {
   "cell_type": "code",
   "execution_count": 25,
   "metadata": {},
   "outputs": [],
   "source": [
    "img_gamma = gamma_correction(img, 2.0)\n",
    "cv2.imshow(\"img_gamma\", img_gamma)\n",
    "key = cv2.waitKey()\n",
    "if key == 27:\n",
    "    cv2.destroyAllWindows()"
   ]
  },
  {
   "cell_type": "code",
   "execution_count": 26,
   "metadata": {},
   "outputs": [],
   "source": [
    "img_gamma[300:500, 150:300,] = yuv_crop\n",
    "cv2.imshow(\"img_gamma\", img_gamma)\n",
    "key = cv2.waitKey()\n",
    "if key == 27:\n",
    "    cv2.destroyAllWindows()\n",
    "img_gamma = gamma_correction(img_gamma, 1.5)\n",
    "cv2.imshow(\"img_gamma\", img_gamma)\n",
    "key = cv2.waitKey()\n",
    "if key == 27:\n",
    "    cv2.destroyAllWindows()"
   ]
  },
  {
   "cell_type": "code",
   "execution_count": 27,
   "metadata": {},
   "outputs": [],
   "source": [
    "M  = cv2.getRotationMatrix2D((img_gamma.shape[0] / 2, img_gamma.shape[1] / 2), 30, 1)\n",
    "dst = cv2.warpAffine(img_gamma, M, (img_gamma.shape[0], img_gamma.shape[1]))\n",
    "cv2.imshow(\"dst\", dst)\n",
    "key = cv2.waitKey()\n",
    "if key == 27:\n",
    "    cv2.destroyAllWindows()"
   ]
  },
  {
   "cell_type": "code",
   "execution_count": 28,
   "metadata": {},
   "outputs": [],
   "source": [
    "pts1 = np.float32([[0, 0], [img_gamma.shape[0] - 1, 0], [0, img_gamma.shape[1] - 1]])\n",
    "pts2 = np.float32([[30, 30], [400, 300], [300, 400]])\n",
    "M = cv2.getAffineTransform(pts1, pts2)\n",
    "dst = cv2.warpAffine(img_gamma, M, (img_gamma.shape[0], img_gamma.shape[1]))\n",
    "cv2.imshow(\"dst\", dst)\n",
    "key = cv2.waitKey()\n",
    "if key == 27:\n",
    "    cv2.destroyAllWindows()"
   ]
  },
  {
   "cell_type": "code",
   "execution_count": 29,
   "metadata": {},
   "outputs": [],
   "source": [
    "pts1 = np.float32([[0, 500], [0, 10], [500, 10], [500, 500]])\n",
    "pts2 = np.float32([[0, 500], [150, 150], [400, 150], [500, 500]]) \n",
    "M = cv2.getPerspectiveTransform(pts1, pts2)\n",
    "dst = cv2.warpPerspective(img_gamma, M, (img_gamma.shape[0], img_gamma.shape[1]))\n",
    "cv2.imshow(\"dst\", dst)\n",
    "key = cv2.waitKey()\n",
    "if key == 27:\n",
    "    cv2.destroyAllWindows()"
   ]
  }
 ],
 "metadata": {
  "kernelspec": {
   "display_name": "Pytorch for Deeplearning",
   "language": "python",
   "name": "pytorch"
  },
  "language_info": {
   "codemirror_mode": {
    "name": "ipython",
    "version": 3
   },
   "file_extension": ".py",
   "mimetype": "text/x-python",
   "name": "python",
   "nbconvert_exporter": "python",
   "pygments_lexer": "ipython3",
   "version": "3.6.8"
  }
 },
 "nbformat": 4,
 "nbformat_minor": 2
}
